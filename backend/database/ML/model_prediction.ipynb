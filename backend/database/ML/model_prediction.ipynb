{
 "cells": [
  {
   "attachments": {},
   "cell_type": "markdown",
   "metadata": {},
   "source": [
    "Importations"
   ]
  },
  {
   "cell_type": "code",
   "execution_count": 4,
   "metadata": {},
   "outputs": [],
   "source": [
    "import json\n",
    "import logging\n",
    "import os\n",
    "import pickle\n",
    "import numpy as np\n",
    "import pandas as pd\n",
    "import joblib"
   ]
  },
  {
   "cell_type": "code",
   "execution_count": 5,
   "metadata": {},
   "outputs": [],
   "source": [
    "import azureml.automl.core\n",
    "from azureml.automl.core.shared import logging_utilities, log_server\n",
    "from azureml.telemetry import INSTRUMENTATION_KEY\n",
    "\n",
    "from inference_schema.schema_decorators import input_schema, output_schema\n",
    "from inference_schema.parameter_types.numpy_parameter_type import NumpyParameterType\n",
    "from inference_schema.parameter_types.pandas_parameter_type import PandasParameterType\n",
    "from inference_schema.parameter_types.standard_py_parameter_type import StandardPythonParameterType"
   ]
  },
  {
   "cell_type": "code",
   "execution_count": 6,
   "metadata": {},
   "outputs": [],
   "source": [
    "data_sample = PandasParameterType(pd.DataFrame({\"Manufacturer\": pd.Series([\"example_value\"], dtype=\"object\"), \"Model\": pd.Series([\"example_value\"], dtype=\"object\"), \"Prod. year\": pd.Series([\"2000-1-1\"], dtype=\"datetime64[ns]\"), \"Category\": pd.Series([\"example_value\"], dtype=\"object\"), \"Leather interior\": pd.Series([False], dtype=\"bool\"), \"Fuel type\": pd.Series([\"example_value\"], dtype=\"object\"), \"Engine volume\": pd.Series([0.0], dtype=\"float64\"), \"Mileage\": pd.Series([0], dtype=\"int64\"), \"Cylinders\": pd.Series([0.0], dtype=\"float64\"), \"Gear box type\": pd.Series([\"example_value\"], dtype=\"object\"), \"Drive wheels\": pd.Series([\"example_value\"], dtype=\"object\"), \"Doors\": pd.Series([0], dtype=\"int64\"), \"Wheel\": pd.Series([False], dtype=\"bool\"), \"Color\": pd.Series([\"example_value\"], dtype=\"object\"), \"Airbags\": pd.Series([0], dtype=\"int64\"), \"Turbo\": pd.Series([False], dtype=\"bool\")}))\n",
    "input_sample = StandardPythonParameterType({'data': data_sample})\n",
    "\n",
    "result_sample = NumpyParameterType(np.array([0]))\n",
    "output_sample = StandardPythonParameterType({'Results':result_sample})\n",
    "sample_global_parameters = StandardPythonParameterType(1.0)"
   ]
  },
  {
   "cell_type": "code",
   "execution_count": 7,
   "metadata": {},
   "outputs": [],
   "source": [
    "try:\n",
    "    log_server.enable_telemetry(INSTRUMENTATION_KEY)\n",
    "    log_server.set_verbosity('INFO')\n",
    "    logger = logging.getLogger('azureml.automl.core.scoring_script_v2')\n",
    "except:\n",
    "    pass"
   ]
  },
  {
   "cell_type": "code",
   "execution_count": 8,
   "metadata": {},
   "outputs": [],
   "source": [
    "def init():\n",
    "    global model\n",
    "    # This name is model.id of model that we want to deploy deserialize the model file back\n",
    "    # into a sklearn model\n",
    "    model_path = os.path.join(os.getenv('AZUREML_MODEL_DIR'), 'model.pkl')\n",
    "    path = os.path.normpath(model_path)\n",
    "    path_split = path.split(os.sep)\n",
    "    log_server.update_custom_dimensions({'model_name': path_split[-3], 'model_version': path_split[-2]})\n",
    "    try:\n",
    "        logger.info(\"Loading model from path.\")\n",
    "        model = joblib.load(model_path)\n",
    "        logger.info(\"Loading successful.\")\n",
    "    except Exception as e:\n",
    "        logging_utilities.log_traceback(e, logger)\n",
    "        raise"
   ]
  },
  {
   "cell_type": "code",
   "execution_count": 9,
   "metadata": {},
   "outputs": [],
   "source": [
    "@input_schema('Inputs', input_sample)\n",
    "@input_schema('GlobalParameters', sample_global_parameters, convert_to_provided_type=False)\n",
    "@output_schema(output_sample)\n",
    "def run(Inputs, GlobalParameters=1.0):\n",
    "    data = Inputs['data']\n",
    "    result = model.predict(data)\n",
    "    return {'Results':result.tolist()}"
   ]
  }
 ],
 "metadata": {
  "kernelspec": {
   "display_name": "Python 3",
   "language": "python",
   "name": "python3"
  },
  "language_info": {
   "codemirror_mode": {
    "name": "ipython",
    "version": 3
   },
   "file_extension": ".py",
   "mimetype": "text/x-python",
   "name": "python",
   "nbconvert_exporter": "python",
   "pygments_lexer": "ipython3",
   "version": "3.9.12"
  },
  "orig_nbformat": 4
 },
 "nbformat": 4,
 "nbformat_minor": 2
}
