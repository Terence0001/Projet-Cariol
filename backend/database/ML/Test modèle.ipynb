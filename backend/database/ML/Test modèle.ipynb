{
 "cells": [
  {
   "attachments": {},
   "cell_type": "markdown",
   "metadata": {},
   "source": [
    "Importations de base"
   ]
  },
  {
   "cell_type": "code",
   "execution_count": 1,
   "metadata": {},
   "outputs": [],
   "source": [
    "import json\n",
    "import logging\n",
    "import os\n",
    "import pickle\n",
    "import numpy as np\n",
    "import pandas as pd\n",
    "import joblib"
   ]
  },
  {
   "cell_type": "code",
   "execution_count": 2,
   "metadata": {},
   "outputs": [],
   "source": [
    "# pip install azureml-core\n",
    "# pip install azureml"
   ]
  },
  {
   "cell_type": "code",
   "execution_count": 3,
   "metadata": {},
   "outputs": [],
   "source": [
    "# pip install azureml-automl-core"
   ]
  },
  {
   "cell_type": "code",
   "execution_count": 6,
   "metadata": {},
   "outputs": [
    {
     "ename": "ModuleNotFoundError",
     "evalue": "No module named 'azureml.automl'",
     "output_type": "error",
     "traceback": [
      "\u001b[1;31m---------------------------------------------------------------------------\u001b[0m",
      "\u001b[1;31mModuleNotFoundError\u001b[0m                       Traceback (most recent call last)",
      "Cell \u001b[1;32mIn[6], line 1\u001b[0m\n\u001b[1;32m----> 1\u001b[0m \u001b[39mimport\u001b[39;00m \u001b[39mazureml\u001b[39;00m\u001b[39m.\u001b[39;00m\u001b[39mautoml\u001b[39;00m\u001b[39m.\u001b[39;00m\u001b[39mcore\u001b[39;00m\n",
      "\u001b[1;31mModuleNotFoundError\u001b[0m: No module named 'azureml.automl'"
     ]
    }
   ],
   "source": [
    "import azureml.automl.core"
   ]
  },
  {
   "cell_type": "code",
   "execution_count": 5,
   "metadata": {},
   "outputs": [
    {
     "ename": "ModuleNotFoundError",
     "evalue": "No module named 'azureml.automl'",
     "output_type": "error",
     "traceback": [
      "\u001b[1;31m---------------------------------------------------------------------------\u001b[0m",
      "\u001b[1;31mModuleNotFoundError\u001b[0m                       Traceback (most recent call last)",
      "Cell \u001b[1;32mIn[5], line 1\u001b[0m\n\u001b[1;32m----> 1\u001b[0m \u001b[39mfrom\u001b[39;00m \u001b[39mazureml\u001b[39;00m\u001b[39m.\u001b[39;00m\u001b[39mautoml\u001b[39;00m\u001b[39m.\u001b[39;00m\u001b[39mcore\u001b[39;00m\u001b[39m.\u001b[39;00m\u001b[39mshared\u001b[39;00m \u001b[39mimport\u001b[39;00m logging_utilities, log_server\n\u001b[0;32m      2\u001b[0m \u001b[39mfrom\u001b[39;00m \u001b[39mazureml\u001b[39;00m\u001b[39m.\u001b[39;00m\u001b[39mtelemetry\u001b[39;00m \u001b[39mimport\u001b[39;00m INSTRUMENTATION_KEY\n",
      "\u001b[1;31mModuleNotFoundError\u001b[0m: No module named 'azureml.automl'"
     ]
    }
   ],
   "source": [
    "from azureml.automl.core.shared import logging_utilities, log_server\n",
    "from azureml.telemetry import INSTRUMENTATION_KEY"
   ]
  },
  {
   "cell_type": "code",
   "execution_count": null,
   "metadata": {},
   "outputs": [],
   "source": [
    "from inference_schema.schema_decorators import input_schema, output_schema\n",
    "from inference_schema.parameter_types.numpy_parameter_type import NumpyParameterType\n",
    "from inference_schema.parameter_types.pandas_parameter_type import PandasParameterType\n",
    "from inference_schema.parameter_types.standard_py_parameter_type import StandardPythonParameterType"
   ]
  },
  {
   "cell_type": "code",
   "execution_count": null,
   "metadata": {},
   "outputs": [],
   "source": [
    "# Créer un échantillon de données pour le paramètre 'data'\n",
    "data_sample = PandasParameterType(pd.DataFrame({\"Manufacturer\": pd.Series([\"example_value\"], dtype=\"object\"), \"Model\": pd.Series([\"example_value\"], dtype=\"object\"), \"Prod. year\": pd.Series([\"2000-1-1\"], dtype=\"datetime64[ns]\"), \"Category\": pd.Series([\"example_value\"], dtype=\"object\"), \"Leather interior\": pd.Series([False], dtype=\"bool\"), \"Fuel type\": pd.Series([\"example_value\"], dtype=\"object\"), \"Engine volume\": pd.Series(\n",
    "    [0.0], dtype=\"float64\"), \"Mileage\": pd.Series([0], dtype=\"int64\"), \"Cylinders\": pd.Series([0.0], dtype=\"float64\"), \"Gear box type\": pd.Series([\"example_value\"], dtype=\"object\"), \"Drive wheels\": pd.Series([\"example_value\"], dtype=\"object\"), \"Doors\": pd.Series([0], dtype=\"int64\"), \"Wheel\": pd.Series([False], dtype=\"bool\"), \"Color\": pd.Series([\"example_value\"], dtype=\"object\"), \"Airbags\": pd.Series([0], dtype=\"int64\"), \"Turbo\": pd.Series([False], dtype=\"bool\")}))\n",
    "# Créer un échantillon d'entrée pour le paramètre 'input'\n",
    "input_sample = StandardPythonParameterType({'data': data_sample})"
   ]
  },
  {
   "cell_type": "code",
   "execution_count": null,
   "metadata": {},
   "outputs": [],
   "source": [
    "# Créer un échantillon de résultats pour le paramètre 'Results'\n",
    "result_sample = NumpyParameterType(np.array([0]))\n",
    "# Créer un échantillon de sortie pour le paramètre 'output'\n",
    "output_sample = StandardPythonParameterType({'Results': result_sample})\n",
    "# Créer un échantillon de paramètres globaux pour le paramètre 'sample_global_parameters'\n",
    "sample_global_parameters = StandardPythonParameterType(1.0)"
   ]
  },
  {
   "cell_type": "code",
   "execution_count": null,
   "metadata": {},
   "outputs": [],
   "source": [
    "try:\n",
    "    # Activer la télémétrie avec la clé d'instrumentation spécifiée\n",
    "    log_server.enable_telemetry(INSTRUMENTATION_KEY)\n",
    "    # Définir le niveau de verbosité sur 'INFO'\n",
    "    log_server.set_verbosity('INFO')\n",
    "    # Obtenir le logger pour le script de scoring v2\n",
    "    logger = logging.getLogger('azureml.automl.core.scoring_script_v2')\n",
    "except:\n",
    "    # Ignorer les exceptions et continuer\n",
    "    pass"
   ]
  },
  {
   "cell_type": "code",
   "execution_count": null,
   "metadata": {},
   "outputs": [],
   "source": [
    "def init():\n",
    "    global model\n",
    "    # This name is model.id of model that we want to deploy deserialize the model file back\n",
    "    # into a sklearn model\n",
    "    model_path = os.path.join(os.getenv('AZUREML_MODEL_DIR'), 'model.pkl')\n",
    "    # Normaliser le chemin du modèle\n",
    "    path = os.path.normpath(model_path)\n",
    "    # Fractionner le chemin en segments\n",
    "    path_split = path.split(os.sep)\n",
    "    # Mettre à jour les dimensions personnalisées pour les journaux\n",
    "    log_server.update_custom_dimensions(\n",
    "        {'model_name': path_split[-3], 'model_version': path_split[-2]})\n",
    "    try:\n",
    "        # Charger le modèle à partir du chemin spécifié\n",
    "        logger.info(\"Loading model from path.\")\n",
    "        model = joblib.load(model_path)\n",
    "        logger.info(\"Loading successful.\")\n",
    "    except Exception as e:\n",
    "        # Journaliser l'erreur et la remonter\n",
    "        logging_utilities.log_traceback(e, logger)\n",
    "        raise"
   ]
  },
  {
   "cell_type": "code",
   "execution_count": null,
   "metadata": {},
   "outputs": [],
   "source": [
    "@input_schema('Inputs', input_sample)\n",
    "@input_schema('GlobalParameters', sample_global_parameters, convert_to_provided_type=False)\n",
    "@output_schema(output_sample)\n",
    "def run(Inputs, GlobalParameters=1.0):\n",
    "# Récupérer les données d'entrée\n",
    "    data = Inputs['data']\n",
    "    # Effectuer la prédiction en utilisant le modèle chargé\n",
    "    result = model.predict(data)\n",
    "    # Convertir le résultat en liste et le renvoyer dans le format spécifié\n",
    "    return {'Results':result.tolist()}"
   ]
  },
  {
   "cell_type": "code",
   "execution_count": null,
   "metadata": {},
   "outputs": [],
   "source": []
  },
  {
   "cell_type": "code",
   "execution_count": null,
   "metadata": {},
   "outputs": [],
   "source": []
  }
 ],
 "metadata": {
  "kernelspec": {
   "display_name": "Python 3",
   "language": "python",
   "name": "python3"
  },
  "language_info": {
   "codemirror_mode": {
    "name": "ipython",
    "version": 3
   },
   "file_extension": ".py",
   "mimetype": "text/x-python",
   "name": "python",
   "nbconvert_exporter": "python",
   "pygments_lexer": "ipython3",
   "version": "3.11.0"
  },
  "orig_nbformat": 4
 },
 "nbformat": 4,
 "nbformat_minor": 2
}
